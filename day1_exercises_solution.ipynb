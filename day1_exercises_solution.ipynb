{
 "cells": [
  {
   "cell_type": "code",
   "execution_count": 4,
   "metadata": {},
   "outputs": [],
   "source": [
    "import os\n",
    "from pathlib import Path"
   ]
  },
  {
   "cell_type": "markdown",
   "metadata": {},
   "source": [
    "# Exercise1 - Solution"
   ]
  },
  {
   "cell_type": "markdown",
   "metadata": {},
   "source": [
    "## Source1 - Pip Packages"
   ]
  },
  {
   "cell_type": "code",
   "execution_count": 17,
   "metadata": {},
   "outputs": [],
   "source": [
    "!pip freeze > source1_pkg.txt"
   ]
  },
  {
   "cell_type": "code",
   "execution_count": 44,
   "metadata": {},
   "outputs": [],
   "source": [
    "source1_pkgs = []\n",
    "with open(\"source1_pkg.txt\") as inp:\n",
    "    for line in inp:\n",
    "        line = line.strip(\"\\n\")\n",
    "        #print(line)\n",
    "        pkg_name, pkg_version = line.split(\"==\")\n",
    "        source1_pkgs.append((pkg_name,pkg_version))"
   ]
  },
  {
   "cell_type": "code",
   "execution_count": 45,
   "metadata": {},
   "outputs": [
    {
     "data": {
      "text/plain": [
       "60"
      ]
     },
     "execution_count": 45,
     "metadata": {},
     "output_type": "execute_result"
    }
   ],
   "source": [
    "len(source1_pkgs)"
   ]
  },
  {
   "cell_type": "code",
   "execution_count": 46,
   "metadata": {},
   "outputs": [
    {
     "data": {
      "text/plain": [
       "[('attrs', '19.3.0'),\n",
       " ('backcall', '0.1.0'),\n",
       " ('bleach', '3.1.0'),\n",
       " ('certifi', '2019.11.28'),\n",
       " ('cycler', '0.10.0')]"
      ]
     },
     "execution_count": 46,
     "metadata": {},
     "output_type": "execute_result"
    }
   ],
   "source": [
    "source1_pkgs[0:5]"
   ]
  },
  {
   "cell_type": "markdown",
   "metadata": {},
   "source": [
    "## Source2 - Miniconda Packages"
   ]
  },
  {
   "cell_type": "code",
   "execution_count": 3,
   "metadata": {},
   "outputs": [],
   "source": [
    "conda_prefix = os.environ['CONDA_PREFIX']"
   ]
  },
  {
   "cell_type": "code",
   "execution_count": 80,
   "metadata": {},
   "outputs": [],
   "source": [
    "source2_pkgs = []\n",
    "for file in Path(f\"{conda_prefix}/lib/python3.7/site-packages\").glob(\"*dist-info\"):\n",
    "    if file.is_dir():\n",
    "        pkg_name, pkg_version = file.name.replace(\".dist-info\",\"\").split(\"-\")\n",
    "        #print(pkg_name, pkg_version)\n",
    "        source2_pkgs.append((pkg_name,pkg_version))"
   ]
  },
  {
   "cell_type": "code",
   "execution_count": 81,
   "metadata": {},
   "outputs": [
    {
     "data": {
      "text/plain": [
       "52"
      ]
     },
     "execution_count": 81,
     "metadata": {},
     "output_type": "execute_result"
    }
   ],
   "source": [
    "len(source2_pkgs)"
   ]
  },
  {
   "cell_type": "code",
   "execution_count": 82,
   "metadata": {},
   "outputs": [],
   "source": [
    "set1 = set(dict(source1_pkgs).keys())\n",
    "set2 = set(dict(source2_pkgs).keys())\n",
    "combined_pkgs  = [ (key, dict(source1_pkgs)[key], dict(source2_pkgs)[key]) for key in set1.intersection(set2)]\n",
    "set1_only_pkgs = [ (key, dict(source1_pkgs)[key], None) for key in set1-set2]\n",
    "set2_only_pkgs = [ (key, None, dict(source2_pkgs)[key]) for key in set2-set1]"
   ]
  },
  {
   "cell_type": "code",
   "execution_count": 83,
   "metadata": {},
   "outputs": [
    {
     "data": {
      "text/plain": [
       "[('importlib_metadata', None, '1.5.0'),\n",
       " ('scikit_learn', None, '0.22.1'),\n",
       " ('jupyter_client', None, '5.3.4'),\n",
       " ('jupyterlab_server', None, '1.0.6'),\n",
       " ('PyQt5_sip', None, '4.19.18'),\n",
       " ('prompt_toolkit', None, '3.0.3'),\n",
       " ('jupyter_core', None, '4.6.1'),\n",
       " ('prometheus_client', None, '0.7.1'),\n",
       " ('python_dateutil', None, '2.8.1'),\n",
       " ('more_itertools', None, '8.2.0')]"
      ]
     },
     "execution_count": 83,
     "metadata": {},
     "output_type": "execute_result"
    }
   ],
   "source": [
    "set2_only_pkgs"
   ]
  },
  {
   "cell_type": "code",
   "execution_count": 84,
   "metadata": {},
   "outputs": [
    {
     "data": {
      "text/plain": [
       "[('pickleshare', '0.7.5', None),\n",
       " ('pandocfilters', '1.4.2', None),\n",
       " ('PyQt5-sip', '4.19.18', None),\n",
       " ('pyzmq', '18.1.1', None),\n",
       " ('terminado', '0.8.3', None),\n",
       " ('python-dateutil', '2.8.1', None),\n",
       " ('prometheus-client', '0.7.1', None),\n",
       " ('prompt-toolkit', '3.0.3', None),\n",
       " ('more-itertools', '8.2.0', None),\n",
       " ('ipython-genutils', '0.2.0', None),\n",
       " ('importlib-metadata', '1.5.0', None),\n",
       " ('jupyter-client', '5.3.4', None),\n",
       " ('jupyter-core', '4.6.1', None),\n",
       " ('scikit-learn', '0.22.1', None),\n",
       " ('jupyterlab', '1.2.6', None),\n",
       " ('webencodings', '0.5.1', None),\n",
       " ('certifi', '2019.11.28', None),\n",
       " ('jupyterlab-server', '1.0.6', None)]"
      ]
     },
     "execution_count": 84,
     "metadata": {},
     "output_type": "execute_result"
    }
   ],
   "source": [
    "set1_only_pkgs"
   ]
  },
  {
   "cell_type": "code",
   "execution_count": 85,
   "metadata": {},
   "outputs": [
    {
     "data": {
      "text/plain": [
       "[('ipython', '7.11.1', '7.11.1'),\n",
       " ('nbconvert', '5.6.1', '5.6.1'),\n",
       " ('pyparsing', '2.4.6', '2.4.6'),\n",
       " ('defusedxml', '0.6.0', '0.6.0'),\n",
       " ('cycler', '0.10.0', '0.10.0'),\n",
       " ('MarkupSafe', '1.1.1', '1.1.1'),\n",
       " ('pytz', '2019.3', '2019.3'),\n",
       " ('notebook', '6.0.3', '6.0.3'),\n",
       " ('parso', '0.6.0', '0.6.0'),\n",
       " ('zipp', '2.1.0', '2.1.0'),\n",
       " ('PyQtWebEngine', '5.12.1', '5.12.1'),\n",
       " ('inflect', '4.0.0', '4.0.0'),\n",
       " ('jedi', '0.16.0', '0.16.0'),\n",
       " ('joblib', '0.14.1', '0.14.1'),\n",
       " ('ptyprocess', '0.6.0', '0.6.0'),\n",
       " ('mistune', '0.8.4', '0.8.4'),\n",
       " ('entrypoints', '0.3', '0.3'),\n",
       " ('six', '1.14.0', '1.14.0'),\n",
       " ('ipykernel', '5.1.4', '5.1.4'),\n",
       " ('json5', '0.9.0', '0.9.0'),\n",
       " ('wcwidth', '0.1.8', '0.1.8'),\n",
       " ('bleach', '3.1.0', '3.1.0'),\n",
       " ('scipy', '1.4.1', '1.4.1'),\n",
       " ('Send2Trash', '1.5.0', '1.5.0'),\n",
       " ('numpy', '1.17.5', '1.17.5'),\n",
       " ('Pygments', '2.5.2', '2.5.2'),\n",
       " ('traitlets', '4.3.3', '4.3.3'),\n",
       " ('pandas', '1.0.0', '1.0.0'),\n",
       " ('PyQt5', '5.12.3', '5.12.3'),\n",
       " ('decorator', '4.4.1', '4.4.1'),\n",
       " ('backcall', '0.1.0', '0.1.0'),\n",
       " ('pexpect', '4.8.0', '4.8.0'),\n",
       " ('testpath', '0.4.4', '0.4.4'),\n",
       " ('nbformat', '5.0.4', '5.0.4'),\n",
       " ('jaraco.itertools', '5.0.0', '5.0.0'),\n",
       " ('matplotlib', '3.1.2', '3.1.2'),\n",
       " ('pyrsistent', '0.15.7', '0.15.7'),\n",
       " ('attrs', '19.3.0', '19.3.0'),\n",
       " ('jsonschema', '3.2.0', '3.2.0'),\n",
       " ('Jinja2', '2.11.1', '2.11.1'),\n",
       " ('kiwisolver', '1.1.0', '1.1.0'),\n",
       " ('tornado', '6.0.3', '6.0.3')]"
      ]
     },
     "execution_count": 85,
     "metadata": {},
     "output_type": "execute_result"
    }
   ],
   "source": [
    "combined_pkgs"
   ]
  },
  {
   "cell_type": "code",
   "execution_count": 63,
   "metadata": {},
   "outputs": [
    {
     "data": {
      "text/plain": [
       "{'Jinja2',\n",
       " 'MarkupSafe',\n",
       " 'PyQt5',\n",
       " 'PyQtWebEngine',\n",
       " 'Pygments',\n",
       " 'Send2Trash',\n",
       " 'attrs',\n",
       " 'backcall',\n",
       " 'bleach',\n",
       " 'cycler',\n",
       " 'decorator',\n",
       " 'defusedxml',\n",
       " 'entrypoints',\n",
       " 'inflect',\n",
       " 'ipykernel',\n",
       " 'ipython',\n",
       " 'jaraco.itertools',\n",
       " 'jedi',\n",
       " 'joblib',\n",
       " 'json5',\n",
       " 'jsonschema',\n",
       " 'kiwisolver',\n",
       " 'matplotlib',\n",
       " 'mistune',\n",
       " 'nbconvert',\n",
       " 'nbformat',\n",
       " 'notebook',\n",
       " 'numpy',\n",
       " 'pandas',\n",
       " 'parso',\n",
       " 'pexpect',\n",
       " 'ptyprocess',\n",
       " 'pyparsing',\n",
       " 'pyrsistent',\n",
       " 'pytz',\n",
       " 'scipy',\n",
       " 'six',\n",
       " 'testpath',\n",
       " 'tornado',\n",
       " 'traitlets',\n",
       " 'wcwidth',\n",
       " 'zipp'}"
      ]
     },
     "execution_count": 63,
     "metadata": {},
     "output_type": "execute_result"
    }
   ],
   "source": [
    "set1.intersection(set2)"
   ]
  },
  {
   "cell_type": "markdown",
   "metadata": {},
   "source": [
    "# Exercise2 - Solution"
   ]
  },
  {
   "cell_type": "markdown",
   "metadata": {},
   "source": [
    "## A happy number is a number defined by the following process: Starting with any positive integer, replace the number by the sum of the squares of its digits, and repeat the process until the number either equals 1 (where it will stay), or it loops endlessly in a cycle which does not include 1. Those numbers for which this process ends in 1 are happy numbers, while those that do not end in 1 are unhappy numbers"
   ]
  },
  {
   "cell_type": "code",
   "execution_count": 156,
   "metadata": {},
   "outputs": [],
   "source": [
    "def is_happy_number(any_positive_integer:int)->bool:\n",
    "    \"\"\"\n",
    "    This function takes any positive integer as input and returns a True if the number is a happy number\n",
    "    A happy number is a number defined by the following process: \n",
    "      Starting with any positive integer, replace the number by the sum of the squares of its digits, \n",
    "      and repeat the process until the number either equals 1 (where it will stay), \n",
    "      or it loops endlessly in a cycle which does not include 1. \n",
    "      Those numbers for which this process ends in 1 are happy numbers, \n",
    "      while those that do not end in 1 are unhappy numbers\n",
    "      \n",
    "      is_happy_number(any_positive_number) -> Boolean\n",
    "    \"\"\"\n",
    "    number = any_positive_integer\n",
    "    no_of_iterations = 0\n",
    "    while True:\n",
    "        number = _sum_of_square_of_digits(number)\n",
    "        no_of_iterations += 1\n",
    "        print(number,no_of_iterations)\n",
    "        if number == 1:\n",
    "            print(no_of_iterations)\n",
    "            return True\n",
    "        elif number in [0,2,3,4,5,6,7,8,9]:\n",
    "            print(no_of_iterations)\n",
    "            return False\n",
    "        "
   ]
  },
  {
   "cell_type": "code",
   "execution_count": 157,
   "metadata": {},
   "outputs": [],
   "source": [
    "def _sum_of_square_of_digits(any_positive_integer:int)->int:\n",
    "    \"\"\"\n",
    "    This function retunrs sum of the squares of digits of any positive number\n",
    "    \n",
    "    _sum_of_squares_of_digits(any_positive_integer) -> int\n",
    "    \n",
    "    \"\"\"\n",
    "    square_of_digits = [ int(digit)**2 for digit in str(any_positive_integer)]\n",
    "    return sum(square_of_digits)\n",
    "    "
   ]
  },
  {
   "cell_type": "code",
   "execution_count": 158,
   "metadata": {},
   "outputs": [
    {
     "data": {
      "text/plain": [
       "16"
      ]
     },
     "execution_count": 158,
     "metadata": {},
     "output_type": "execute_result"
    }
   ],
   "source": [
    "_sum_of_square_of_digits(4)"
   ]
  },
  {
   "cell_type": "code",
   "execution_count": 159,
   "metadata": {},
   "outputs": [
    {
     "name": "stdout",
     "output_type": "stream",
     "text": [
      "10 1\n",
      "1 2\n",
      "2\n"
     ]
    },
    {
     "data": {
      "text/plain": [
       "True"
      ]
     },
     "execution_count": 159,
     "metadata": {},
     "output_type": "execute_result"
    }
   ],
   "source": [
    "is_happy_number(13)"
   ]
  },
  {
   "cell_type": "code",
   "execution_count": null,
   "metadata": {},
   "outputs": [],
   "source": []
  },
  {
   "cell_type": "code",
   "execution_count": null,
   "metadata": {},
   "outputs": [],
   "source": []
  }
 ],
 "metadata": {
  "kernelspec": {
   "display_name": "Python 3",
   "language": "python",
   "name": "python3"
  },
  "language_info": {
   "codemirror_mode": {
    "name": "ipython",
    "version": 3
   },
   "file_extension": ".py",
   "mimetype": "text/x-python",
   "name": "python",
   "nbconvert_exporter": "python",
   "pygments_lexer": "ipython3",
   "version": "3.7.6"
  }
 },
 "nbformat": 4,
 "nbformat_minor": 4
}
